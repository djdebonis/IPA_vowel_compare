{
 "cells": [
  {
   "cell_type": "code",
   "execution_count": 1,
   "id": "9959fb29-ac25-4717-a68a-93f4247fed85",
   "metadata": {},
   "outputs": [],
   "source": [
    "# Executing these “magic commands” will inform your notebook to actively\n",
    "# reload all imported modules and packages as they are modified.\n",
    "%load_ext autoreload"
   ]
  },
  {
   "cell_type": "code",
   "execution_count": 2,
   "id": "7b7dd8bb-fff0-4c99-a6a2-920050db44f6",
   "metadata": {},
   "outputs": [],
   "source": [
    "%reload_ext autoreload"
   ]
  },
  {
   "cell_type": "code",
   "execution_count": 3,
   "id": "d9957435-522f-4a06-977e-4de4d75c338d",
   "metadata": {},
   "outputs": [],
   "source": [
    "# import necessary modules\n",
    "import re\n",
    "import pandas as pd\n",
    "import numpy as np\n",
    "import matplotlib.pyplot as plt\n",
    "import scipy.stats as stat\n",
    "import glob\n",
    "import os\n",
    "import sys"
   ]
  },
  {
   "cell_type": "code",
   "execution_count": 4,
   "id": "931579c8-3e53-4bca-a23d-fdf41adfeb06",
   "metadata": {},
   "outputs": [],
   "source": [
    "import Compare_IPA as ipa"
   ]
  },
  {
   "cell_type": "code",
   "execution_count": 5,
   "id": "08d62425-c94c-48e1-9e8d-8c29cd03a674",
   "metadata": {},
   "outputs": [],
   "source": [
    "desc_transcript_files = glob.glob('transcriptions/descriptive/*.txt') # take in all desc filepaths\n",
    "presc_transcript_file = glob.glob('transcriptions/prescriptive/*.txt') # take in presc transc file"
   ]
  },
  {
   "cell_type": "code",
   "execution_count": 6,
   "id": "9dd1a97c-162f-4224-83ed-6f7518c5f68d",
   "metadata": {
    "tags": []
   },
   "outputs": [],
   "source": [
    "test_file = desc_transcript_files[0]"
   ]
  },
  {
   "cell_type": "code",
   "execution_count": 7,
   "id": "07decb13-3b07-474d-a266-dcd2e8040724",
   "metadata": {},
   "outputs": [
    {
     "data": {
      "text/plain": [
       "'transcriptions/descriptive/partic13.txt'"
      ]
     },
     "execution_count": 7,
     "metadata": {},
     "output_type": "execute_result"
    }
   ],
   "source": [
    "test_file"
   ]
  },
  {
   "cell_type": "code",
   "execution_count": 8,
   "id": "48004ee5-9baf-4ed3-b334-d6f3b39a561c",
   "metadata": {},
   "outputs": [],
   "source": [
    "test_class = ipa.Partic(test_file)"
   ]
  },
  {
   "cell_type": "code",
   "execution_count": 10,
   "id": "6f53af8c-499c-4b86-9d7b-90759fae6a5a",
   "metadata": {},
   "outputs": [
    {
     "data": {
      "text/plain": [
       "{'full_path': 'transcriptions/descriptive/partic13.txt',\n",
       " 'file_name': 'partic13',\n",
       " 'prefix': '',\n",
       " 'extention': '.txt',\n",
       " 'raw_transcript': \"i-se # kom-bi-na-si̯on # i-ni-si̯o # e-ðu-ka-si̯on # as-ta # o-ho # ka-si # 'u-saɾ # fun-si̯o-naɾ # kan-taɾ # ai̯-ju-ða # om-bɾe # es-ta # sa-βe # o-poɾ-tu-ni-ðað # to-ke # el # su # eɽ-ma-na # es-ta # ta-sa # im-poɾ-tan-te # ke # el # tan-to\",\n",
       " 'clean_transcript': ['i-se',\n",
       "  'kom-bi-na-si̯on',\n",
       "  'i-ni-si̯o',\n",
       "  'e-ðu-ka-si̯on',\n",
       "  'as-ta',\n",
       "  'o-ho',\n",
       "  'ka-si',\n",
       "  'u-saɾ',\n",
       "  'fun-si̯o-naɾ',\n",
       "  'kan-taɾ',\n",
       "  'ai̯-ju-ða',\n",
       "  'om-bɾe',\n",
       "  'es-ta',\n",
       "  'sa-βe',\n",
       "  'o-poɾ-tu-ni-ðað',\n",
       "  'to-ke',\n",
       "  'el',\n",
       "  'su',\n",
       "  'eɽ-ma-na',\n",
       "  'es-ta',\n",
       "  'ta-sa',\n",
       "  'im-poɾ-tan-te',\n",
       "  'ke',\n",
       "  'el',\n",
       "  'tan-to']}"
      ]
     },
     "execution_count": 10,
     "metadata": {},
     "output_type": "execute_result"
    }
   ],
   "source": [
    "test_class.dictionary"
   ]
  },
  {
   "cell_type": "code",
   "execution_count": null,
   "id": "3d4443a8-7c5a-442c-9c83-4a0a7bb7ac0d",
   "metadata": {},
   "outputs": [],
   "source": [
    "partic_IDs = [(x + 1) for x in range(15)]"
   ]
  },
  {
   "cell_type": "code",
   "execution_count": null,
   "id": "281e1e8c-4c30-4175-8fae-c4cf12cbeda1",
   "metadata": {},
   "outputs": [],
   "source": [
    "partic_IDs"
   ]
  },
  {
   "cell_type": "code",
   "execution_count": null,
   "id": "1170ac19-490c-4812-9cd5-52475618bac5",
   "metadata": {},
   "outputs": [],
   "source": []
  }
 ],
 "metadata": {
  "kernelspec": {
   "display_name": "Python 3 (ipykernel)",
   "language": "python",
   "name": "python3"
  },
  "language_info": {
   "codemirror_mode": {
    "name": "ipython",
    "version": 3
   },
   "file_extension": ".py",
   "mimetype": "text/x-python",
   "name": "python",
   "nbconvert_exporter": "python",
   "pygments_lexer": "ipython3",
   "version": "3.9.7"
  }
 },
 "nbformat": 4,
 "nbformat_minor": 5
}
